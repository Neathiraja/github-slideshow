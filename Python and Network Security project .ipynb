{
  "nbformat": 4,
  "nbformat_minor": 0,
  "metadata": {
    "colab": {
      "name": "Untitled0.ipynb",
      "provenance": [],
      "authorship_tag": "ABX9TyOyPc7/jQ4Os/8sPw8UpNKp",
      "include_colab_link": true
    },
    "kernelspec": {
      "name": "python3",
      "display_name": "Python 3"
    },
    "language_info": {
      "name": "python"
    }
  },
  "cells": [
    {
      "cell_type": "markdown",
      "metadata": {
        "id": "view-in-github",
        "colab_type": "text"
      },
      "source": [
        "<a href=\"https://colab.research.google.com/github/Neathiraja/github-slideshow/blob/master/Python%20and%20Network%20Security%20project%20.ipynb\" target=\"_parent\"><img src=\"https://colab.research.google.com/assets/colab-badge.svg\" alt=\"Open In Colab\"/></a>"
      ]
    },
    {
      "cell_type": "markdown",
      "metadata": {
        "id": "JtycWTY0gpEs"
      },
      "source": [
        "QUESTION 1: Write a program in python to generate MD5 of String data."
      ]
    },
    {
      "cell_type": "code",
      "metadata": {
        "colab": {
          "base_uri": "https://localhost:8080/"
        },
        "id": "GTb1M4-vgb4B",
        "outputId": "c27d8242-ffe3-49a4-aa9f-6987b9e6617b"
      },
      "source": [
        "import hashlib\n",
        "mystring = input('Enter string to hash: ')\n",
        "hash_obj = hashlib.md5(mystring.encode())\n",
        "print(hash_obj.hexdigest())"
      ],
      "execution_count": 3,
      "outputs": [
        {
          "output_type": "stream",
          "text": [
            "Enter string to hash: Shape.ai\n",
            "d813a72992ef9083cae026b8559503b7\n"
          ],
          "name": "stdout"
        }
      ]
    },
    {
      "cell_type": "markdown",
      "metadata": {
        "id": "M6Tvs9sIhAWE"
      },
      "source": [
        "QUESTION 2: Write a program in python to generate hashes of string data using three algorithm from hashlib. Add salting and iteration to your hashes. "
      ]
    },
    {
      "cell_type": "code",
      "metadata": {
        "colab": {
          "base_uri": "https://localhost:8080/"
        },
        "id": "3y5zuuAcevmY",
        "outputId": "4a5acece-de53-4439-ccba-851bd6dca9f1"
      },
      "source": [
        "import uuid\n",
        "import hashlib\n",
        " \n",
        "def hash_password(password):\n",
        "    salt = uuid.uuid4().hex\n",
        "    return hashlib.sha256(salt.encode() + password.encode()).hexdigest() + ':' + salt\n",
        "    \n",
        "def check_password(hashed_password, user_password):\n",
        "    password, salt = hashed_password.split(':')\n",
        "    return password == hashlib.sha256(salt.encode() + user_password.encode()).hexdigest()\n",
        " \n",
        "new_pass = input('Please enter a password: ')\n",
        "hashed_password = hash_password(new_pass)\n",
        "print('The string to store in the db is: ' + hashed_password)\n",
        "old_pass = input('Now please enter the password again to check: ')\n",
        "if check_password(hashed_password, old_pass):\n",
        "    print('You entered the right password')\n",
        "else:\n",
        "    print('I am sorry but the password does not match')\n"
      ],
      "execution_count": 2,
      "outputs": [
        {
          "output_type": "stream",
          "text": [
            "Please enter a password: Password\n",
            "The string to store in the db is: a137af75e0991b9db3f0e71415cee36807e12c9029c8ca50c4dc170619fd8d33:f58bdc6679a742618673c61d5ea134fe\n",
            "Now please enter the password again to check: Password\n",
            "You entered the right password\n"
          ],
          "name": "stdout"
        }
      ]
    }
  ]
}