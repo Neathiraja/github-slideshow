{
  "nbformat": 4,
  "nbformat_minor": 0,
  "metadata": {
    "colab": {
      "name": "Untitled0.ipynb",
      "provenance": [],
      "authorship_tag": "ABX9TyM+H5vn28vtHVZ/8PMvBIqd",
      "include_colab_link": true
    },
    "kernelspec": {
      "name": "python3",
      "display_name": "Python 3"
    },
    "language_info": {
      "name": "python"
    }
  },
  "cells": [
    {
      "cell_type": "markdown",
      "metadata": {
        "id": "view-in-github",
        "colab_type": "text"
      },
      "source": [
        "<a href=\"https://colab.research.google.com/github/Neathiraja/github-slideshow/blob/master/Python%20and%20network%20security%20project%201.ipynb\" target=\"_parent\"><img src=\"https://colab.research.google.com/assets/colab-badge.svg\" alt=\"Open In Colab\"/></a>"
      ]
    },
    {
      "cell_type": "code",
      "metadata": {
        "colab": {
          "base_uri": "https://localhost:8080/"
        },
        "id": "3y5zuuAcevmY",
        "outputId": "1412d374-ccde-40d7-a07c-0bd2f931f261"
      },
      "source": [
        "import hashlib\n",
        "mystring = input('Enter string to hash: ')\n",
        "hash_obj = hashlib.md5(mystring.encode())\n",
        "print(hash_obj.hexdigest())"
      ],
      "execution_count": 1,
      "outputs": [
        {
          "output_type": "stream",
          "text": [
            "Enter string to hash: Shape.ai\n",
            "d813a72992ef9083cae026b8559503b7\n"
          ],
          "name": "stdout"
        }
      ]
    }
  ]
}